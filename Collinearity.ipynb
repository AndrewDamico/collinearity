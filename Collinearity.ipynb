{
 "cells": [
  {
   "cell_type": "markdown",
   "id": "90913957-da61-4923-a07d-17b0f7a6e9f3",
   "metadata": {},
   "source": [
    "# Testing for Collinearity with One Hot Encoding Classes\n",
    "Andrew D'Amico  \n",
    "MSDS 422, Northwestern University  \n",
    "January 11, 2025"
   ]
  },
  {
   "cell_type": "code",
   "execution_count": 285,
   "id": "93960146-326a-4de8-b8c5-7201e3b08666",
   "metadata": {},
   "outputs": [],
   "source": [
    "import numpy as np\n",
    "import pandas as pd\n",
    "from sklearn.preprocessing import StandardScaler \n",
    "from sklearn.compose import ColumnTransformer\n",
    "from sklearn.pipeline import Pipeline\n",
    "from statsmodels.stats.outliers_influence import variance_inflation_factor\n",
    "import statsmodels.api as sm"
   ]
  },
  {
   "cell_type": "markdown",
   "id": "a2ec698a-7604-493a-9871-e66787bde391",
   "metadata": {},
   "source": [
    "## Create dataset"
   ]
  },
  {
   "cell_type": "code",
   "execution_count": 286,
   "id": "219c79e4-0b41-4be3-9d55-8d7f19e8de78",
   "metadata": {},
   "outputs": [],
   "source": [
    "def create_dataset (n=100, seed=10, classes=['Apples', 'Oranges', 'Bananas'], sparse=True, verbose=True):\n",
    "\n",
    "    \"\"\"\n",
    "    Creates a toy dataset with two continuous variables and one categorical variable.\n",
    "\n",
    "    Args:\n",
    "        n (int): number of observations\n",
    "        seed (int): seed of the random number for reproducability\n",
    "        classes (list): classes to include in the categorical variable\n",
    "        sparse (bool): instructs the function if there should be empty values in the categorical variable.\n",
    "        verbose (bool): if verbose, the data output will include a describe() call as well as header observations.\n",
    "\n",
    "    Returns:\n",
    "        a dataset containing the continuous variables Value_A and Value_B, and the categorical variable Class.\n",
    "\n",
    "    \"\"\"\n",
    "\n",
    "    # Set the seed for reproducability\n",
    "    np.random.seed(seed)\n",
    "    \n",
    "    # Generate Value_A between 0 and 1\n",
    "    value_a = np.random.rand(n)\n",
    "\n",
    "    # Generate Value_B between -1 and 1\n",
    "    value_b = np.random.uniform(-1, 1, n)\n",
    "\n",
    "    # Create empty variables\n",
    "    if sparse:\n",
    "        classes.append(\"\")\n",
    "\n",
    "    # Randomly choose classes for each row.\n",
    "    weights = np.random.rand(len(classes)) #randomly determine distribution of classes\n",
    "    weights /= weights.sum() #Normalize the weights so that they equal 1\n",
    "    class_values = np.random.choice(classes, size=n, p=weights)\n",
    "\n",
    "    # Combine into a pandas DataFrame\n",
    "    df = pd.DataFrame({\n",
    "        \"Value_A\": value_a,\n",
    "        \"Value_B\": value_b,\n",
    "        \"Class\": class_values\n",
    "    })\n",
    "\n",
    "    if verbose:\n",
    "        print (df.describe())\n",
    "        print ()\n",
    "        print (df.head())\n",
    "\n",
    "    return df"
   ]
  },
  {
   "cell_type": "code",
   "execution_count": 287,
   "id": "10c5b648-d4e1-476b-bd34-85028847cd11",
   "metadata": {},
   "outputs": [
    {
     "name": "stdout",
     "output_type": "stream",
     "text": [
      "          Value_A     Value_B\n",
      "count  100.000000  100.000000\n",
      "mean     0.485349   -0.082480\n",
      "std      0.276362    0.550355\n",
      "min      0.003948   -0.970730\n",
      "25%      0.295171   -0.634496\n",
      "50%      0.496778   -0.046194\n",
      "75%      0.716371    0.395260\n",
      "max      0.987625    0.955799\n",
      "\n",
      "    Value_A   Value_B    Class\n",
      "0  0.771321  0.156273  Oranges\n",
      "1  0.020752  0.707868   Apples\n",
      "2  0.633648 -0.863805         \n",
      "3  0.748804 -0.070938         \n",
      "4  0.498507  0.563898  Oranges\n"
     ]
    }
   ],
   "source": [
    "data = create_dataset()"
   ]
  },
  {
   "cell_type": "markdown",
   "id": "5ca13eaf-da18-4db4-aa81-92d95fbebf19",
   "metadata": {},
   "source": [
    "## Data Preparation"
   ]
  },
  {
   "cell_type": "markdown",
   "id": "c5841cea-cfc9-4c59-bbf6-59a801114e6a",
   "metadata": {},
   "source": [
    "### Scale Data"
   ]
  },
  {
   "cell_type": "code",
   "execution_count": 312,
   "id": "8356240e-1945-4349-9650-aa95100ff5cf",
   "metadata": {},
   "outputs": [],
   "source": [
    "def scale_data (data, verbose=True):\n",
    "    \"\"\"\n",
    "    scales all numberical data within a dataframe\n",
    "\n",
    "    Args:\n",
    "        data: a pandas dataframe\n",
    "        verbose (bool): if verbose, the data output will include a describe() call as well as header observations.\n",
    "\n",
    "    Returns:\n",
    "        a dataset containing the scaled variables.\n",
    "\n",
    "    \"\"\"\n",
    "\n",
    "    data = data.copy()\n",
    "    \n",
    "    scaler = StandardScaler()\n",
    "\n",
    "    #select the columns to scale based on the datatype\n",
    "    numeric_features = data.select_dtypes(include=[np.number]).columns.tolist()\n",
    "\n",
    "    #creates a list to contain our categorical columns\n",
    "    categorical_features = [] \n",
    "    for column in data.columns:\n",
    "        if column not in numeric_features:\n",
    "            categorical_features.append(column)\n",
    "\n",
    "    # Save the column names\n",
    "    columns = numeric_features + categorical_features\n",
    "            \n",
    "    #Create a data pipeline to scale numberic features\n",
    "    preprocesser = ColumnTransformer(\n",
    "        transformers = [(\"scaler\", scaler, numeric_features)],\n",
    "        remainder = 'passthrough'\n",
    "    )\n",
    "\n",
    "    pipeline = Pipeline([(\"preprocessor\", preprocesser)])\n",
    "\n",
    "    # Scale the data\n",
    "    data_scaled = pipeline.fit_transform(data)\n",
    "\n",
    "    # reintroduce original column names\n",
    "    data_scaled = pd.DataFrame(data_scaled, columns=columns)\n",
    "\n",
    "    for col in data_scaled.columns:\n",
    "        # If the column is 'object', try converting to numeric\n",
    "        if data_scaled[col].dtype == 'object':\n",
    "            try:\n",
    "                data_scaled[col] = pd.to_numeric(data_scaled[col], errors='raise')\n",
    "            except ValueError:\n",
    "                # If it fails, it means the column isn't purely numeric (ignore or handle differently)\n",
    "                pass\n",
    "\n",
    "    if verbose:\n",
    "        print (data_scaled.describe())\n",
    "        print ()\n",
    "        print (\"#Sample Data\")\n",
    "        print (data_scaled.head(5))\n",
    "\n",
    "    return (data_scaled)\n",
    "    "
   ]
  },
  {
   "cell_type": "code",
   "execution_count": 289,
   "id": "b9e3fc46-5662-4246-a531-5eb420fddafc",
   "metadata": {},
   "outputs": [
    {
     "name": "stdout",
     "output_type": "stream",
     "text": [
      "            Value_A       Value_B\n",
      "count  1.000000e+02  1.000000e+02\n",
      "mean   2.498002e-18 -6.883383e-17\n",
      "std    1.005038e+00  1.005038e+00\n",
      "min   -1.750696e+00 -1.622089e+00\n",
      "25%   -6.916153e-01 -1.008071e+00\n",
      "50%    4.156365e-02  6.626431e-02\n",
      "75%    8.401511e-01  8.724306e-01\n",
      "max    1.826616e+00  1.896065e+00\n",
      "\n",
      "#Sample Data\n",
      "    Value_A   Value_B    Class\n",
      "0  1.039986  0.436001  Oranges\n",
      "1 -1.689587  1.443302   Apples\n",
      "2  0.539317 -1.426827         \n",
      "3  0.958100  0.021077         \n",
      "4  0.047852  1.180391  Oranges\n"
     ]
    }
   ],
   "source": [
    "data_scaled = scale_data(data)"
   ]
  },
  {
   "cell_type": "markdown",
   "id": "f0b9d7d4-f9d7-4f61-9bc3-c091e270b022",
   "metadata": {},
   "source": [
    "### Feature Engineering: Perform One Hot Encoding"
   ]
  },
  {
   "cell_type": "code",
   "execution_count": 290,
   "id": "fb6a1b5d-f999-4d99-a662-88145fb6bdd7",
   "metadata": {},
   "outputs": [],
   "source": [
    "def encode_data (data, column, dtype=int, drop=True, verbose=True):\n",
    "    \"\"\"\n",
    "    Manually performs one hot encoding\n",
    "\n",
    "    Args:\n",
    "        data: a dataframe\n",
    "        column (string): the name of the column containing the categorical variable\n",
    "        dtype (string): value to be substituted. Default is int, which returns 1 if true, and 0 if false.\n",
    "        drop (bool): instructs the function to drop the first column of the dummy variables\n",
    "        verbose (bool): if verbose, the data output will include a describe() call as well as header observations.\n",
    "\n",
    "    Returns:\n",
    "        a dataset containing encoded dummy variables combined with the original dataset. The original categorical variable is always dropped.\n",
    "\n",
    "    \"\"\"\n",
    "\n",
    "    #Create the encoded dummies\n",
    "    data_encoded = pd.get_dummies(data[column], dtype=dtype)\n",
    "\n",
    "    # Drop the first column if drop=True\n",
    "    if drop:\n",
    "        data_encoded = data_encoded.drop(data_encoded.columns[0], axis=1)\n",
    "    \n",
    "    # Drop the categorical variable from the original dataset\n",
    "    data = data.drop(columns=column)\n",
    "\n",
    "    # Merge the two tables\n",
    "    data_merged = pd.merge(data, data_encoded, left_index=True, right_index=True)\n",
    "\n",
    "    if verbose:\n",
    "        print (data_merged.describe())\n",
    "        print ()\n",
    "        print ('Example:')\n",
    "        print (data_merged.head(5))\n",
    "    \n",
    "    return (data_merged)"
   ]
  },
  {
   "cell_type": "code",
   "execution_count": 291,
   "id": "f800bb69-6bed-45c2-b9db-060efcfbdd9e",
   "metadata": {},
   "outputs": [
    {
     "name": "stdout",
     "output_type": "stream",
     "text": [
      "            Value_A       Value_B      Class_  Class_Apples  Class_Bananas  \\\n",
      "count  1.000000e+02  1.000000e+02  100.000000    100.000000     100.000000   \n",
      "mean   2.498002e-18 -6.883383e-17    0.330000      0.270000       0.120000   \n",
      "std    1.005038e+00  1.005038e+00    0.472582      0.446196       0.326599   \n",
      "min   -1.750696e+00 -1.622089e+00    0.000000      0.000000       0.000000   \n",
      "25%   -6.916153e-01 -1.008071e+00    0.000000      0.000000       0.000000   \n",
      "50%    4.156365e-02  6.626431e-02    0.000000      0.000000       0.000000   \n",
      "75%    8.401511e-01  8.724306e-01    1.000000      1.000000       0.000000   \n",
      "max    1.826616e+00  1.896065e+00    1.000000      1.000000       1.000000   \n",
      "\n",
      "       Class_Oranges  \n",
      "count     100.000000  \n",
      "mean        0.280000  \n",
      "std         0.451261  \n",
      "min         0.000000  \n",
      "25%         0.000000  \n",
      "50%         0.000000  \n",
      "75%         1.000000  \n",
      "max         1.000000  \n",
      "\n",
      "Example:\n",
      "    Value_A   Value_B  Class_  Class_Apples  Class_Bananas  Class_Oranges\n",
      "0  1.039986  0.436001       0             0              0              1\n",
      "1 -1.689587  1.443302       0             1              0              0\n",
      "2  0.539317 -1.426827       1             0              0              0\n",
      "3  0.958100  0.021077       1             0              0              0\n",
      "4  0.047852  1.180391       0             0              0              1\n"
     ]
    }
   ],
   "source": [
    "data_prepared = encode_data(data_scaled, column=['Class'], drop=False)"
   ]
  },
  {
   "cell_type": "markdown",
   "id": "e957525d-057c-45d6-9804-b66f34d2d6e8",
   "metadata": {},
   "source": [
    "### Create Datasets"
   ]
  },
  {
   "cell_type": "code",
   "execution_count": 292,
   "id": "9be3acf7-451b-4c41-9cda-1d8bd75d7a71",
   "metadata": {},
   "outputs": [],
   "source": [
    "def create_experiment_sets (n: int, sparse: bool, sanity_check=True, seed=100, verbose=False):\n",
    "    \"\"\"\n",
    "    Creates two dataframes of identical observations: one which includes the first class and one where the class is dropped.\n",
    "\n",
    "    Args:\n",
    "        n (int): number of observations in dataframe\n",
    "        sparse (bool): determines if categorical variables should contain NaN\n",
    "        sanity_check (bool): determines if output should show describe() and header observations to check data.\n",
    "        seed (int): seed for replicatability\n",
    "        verbose (bool): if verbose, the data output will include a describe() call as well as header observations.\n",
    "\n",
    "    Returns:\n",
    "        a two datasets containing encoded dummy variables combined with the original dataset, the first set has the redundant class dropped.\n",
    "\n",
    "    \"\"\"\n",
    "    \n",
    "    data = create_dataset (n=n, seed=seed, classes=['Apples', 'Oranges', 'Bananas'], sparse=sparse, verbose=verbose)\n",
    "    data_scaled = scale_data(data, verbose=verbose)\n",
    "    print (\"Creating Set 1...\")\n",
    "    data_prepared_dropped = encode_data(data_scaled, column=['Class'], drop=True, verbose=verbose)\n",
    "    print (\"Creating Set 2...\")\n",
    "    data_prepared_retained = encode_data(data_scaled, column=['Class'], drop=False, verbose=verbose)\n",
    "    print (\"Dataset creation complete.\")\n",
    "    \n",
    "    if sanity_check:\n",
    "        print (\"#Set 1\")\n",
    "        print (data_prepared_dropped.describe(include='all'))\n",
    "        print (\"\\nSet 1 Header\")\n",
    "        print (data_prepared_dropped.head())\n",
    "        print (\"\\nSet 2\")\n",
    "        print (data_prepared_retained.describe(include='all'))\n",
    "        print (\"\\nSet 1 Header\")\n",
    "        print (data_prepared_retained.head())\n",
    "\n",
    "    return (data_prepared_dropped, data_prepared_retained)"
   ]
  },
  {
   "cell_type": "code",
   "execution_count": 293,
   "id": "2b9fcad7-eac3-4f93-8571-33238aa961bd",
   "metadata": {},
   "outputs": [
    {
     "name": "stdout",
     "output_type": "stream",
     "text": [
      "Creating Set 1...\n",
      "Creating Set 2...\n",
      "Dataset creation complete.\n",
      "#Set 1\n",
      "            Value_A       Value_B  Class_Apples  Class_Bananas  Class_Oranges\n",
      "count  1.000000e+04  1.000000e+04  10000.000000   10000.000000   10000.000000\n",
      "mean   1.723066e-16  1.421085e-18      0.403400       0.213900       0.354800\n",
      "std    1.000050e+00  1.000050e+00      0.490604       0.410078       0.478477\n",
      "min   -1.721637e+00 -1.735411e+00      0.000000       0.000000       0.000000\n",
      "25%   -8.696711e-01 -8.703599e-01      0.000000       0.000000       0.000000\n",
      "50%   -5.349509e-03  9.432134e-03      0.000000       0.000000       0.000000\n",
      "75%    8.649521e-01  8.602954e-01      1.000000       0.000000       1.000000\n",
      "max    1.737735e+00  1.728971e+00      1.000000       1.000000       1.000000\n",
      "\n",
      "Set 1 Header\n",
      "    Value_A   Value_B  Class_Apples  Class_Bananas  Class_Oranges\n",
      "0  0.158222  1.272722             0              1              0\n",
      "1 -0.758669  1.708736             1              0              0\n",
      "2 -0.253069  1.517349             0              0              1\n",
      "3  1.200815 -1.016259             1              0              0\n",
      "4 -1.705363  0.743886             0              0              1\n",
      "\n",
      "Set 2\n",
      "            Value_A       Value_B        Class_  Class_Apples  Class_Bananas  \\\n",
      "count  1.000000e+04  1.000000e+04  10000.000000  10000.000000   10000.000000   \n",
      "mean   1.723066e-16  1.421085e-18      0.027900      0.403400       0.213900   \n",
      "std    1.000050e+00  1.000050e+00      0.164695      0.490604       0.410078   \n",
      "min   -1.721637e+00 -1.735411e+00      0.000000      0.000000       0.000000   \n",
      "25%   -8.696711e-01 -8.703599e-01      0.000000      0.000000       0.000000   \n",
      "50%   -5.349509e-03  9.432134e-03      0.000000      0.000000       0.000000   \n",
      "75%    8.649521e-01  8.602954e-01      0.000000      1.000000       0.000000   \n",
      "max    1.737735e+00  1.728971e+00      1.000000      1.000000       1.000000   \n",
      "\n",
      "       Class_Oranges  \n",
      "count   10000.000000  \n",
      "mean        0.354800  \n",
      "std         0.478477  \n",
      "min         0.000000  \n",
      "25%         0.000000  \n",
      "50%         0.000000  \n",
      "75%         1.000000  \n",
      "max         1.000000  \n",
      "\n",
      "Set 1 Header\n",
      "    Value_A   Value_B  Class_  Class_Apples  Class_Bananas  Class_Oranges\n",
      "0  0.158222  1.272722       0             0              1              0\n",
      "1 -0.758669  1.708736       0             1              0              0\n",
      "2 -0.253069  1.517349       0             0              0              1\n",
      "3  1.200815 -1.016259       0             1              0              0\n",
      "4 -1.705363  0.743886       0             0              0              1\n"
     ]
    }
   ],
   "source": [
    "data_prepared_dropped, data_prepared_retained = create_experiment_sets(n=10000, sparse=True, sanity_check=True)"
   ]
  },
  {
   "cell_type": "markdown",
   "id": "b570126b-34ef-45c3-8500-9f4e58f49731",
   "metadata": {},
   "source": [
    "## Experiment\n"
   ]
  },
  {
   "cell_type": "markdown",
   "id": "d7e0d033-fb9a-47e0-8abb-07c9fc202a8c",
   "metadata": {},
   "source": [
    "### Experiment A: Variance Inflation Factor Analysis\n",
    "Given the dataset containing a categorical variable with three options, does collinearity exist between the dummy variables converted to boolean values (i.e., using One Hot Encoding). A Variance Inflation Factor Analysis is performed: sufficiently high numbers suggest that two features have collinearity. \n",
    "\n",
    "Results: The datasets containing a class column retained have a VIF score of the limit appeoaching infinity, and hence suggests perfect collinearity."
   ]
  },
  {
   "cell_type": "code",
   "execution_count": 294,
   "id": "88a418eb-7ac1-47d9-ba1d-548f3a765350",
   "metadata": {},
   "outputs": [],
   "source": [
    "def VIF_analysis (data):\n",
    "    \"\"\"\n",
    "    Performs Variance Inflation Factor Analysis on a dataframe.\n",
    "\n",
    "    Args:\n",
    "        data (DataFrame): a Pandas Dataframe containing the observations to be analyzed.\n",
    "\n",
    "    Returns:\n",
    "        The VIF values for each variable. Values approaching infinity or generating the \"divide-by-zero\" warning are considered perfectly collinear.\n",
    "\n",
    "    \"\"\"\n",
    "    # Ensure that data has only numberic columns\n",
    "    df_numeric = data.copy() #select_dtypes(include=[np.number]).copy()\n",
    "    df_numeric.dropna(inplace=True)\n",
    "\n",
    "    # Add intercept\n",
    "    df_numeric[\"Intercept\"] = 1\n",
    "\n",
    "\n",
    "    # Create an empty DataFrame to hold VIF values\n",
    "    vif_data = pd.DataFrame()\n",
    "    vif_data[\"feature\"] = df_numeric.columns\n",
    "    \n",
    "    # Calculate VIF for each feature\n",
    "    vif_data[\"VIF\"] = [\n",
    "        variance_inflation_factor(df_numeric.values, i)\n",
    "        for i in range(df_numeric.shape[1])\n",
    "    ]\n",
    "\n",
    "    print(vif_data)"
   ]
  },
  {
   "cell_type": "code",
   "execution_count": 295,
   "id": "4b111d18-d1e7-4b86-ba3c-99188514d7c7",
   "metadata": {},
   "outputs": [],
   "source": [
    "def experiment_1 (dataset1, dataset2):\n",
    "    print (\"Dataset 1\")\n",
    "    print (\"---------------------\")\n",
    "    VIF_analysis(dataset1)\n",
    "    print (\"\\nDataset 2\")\n",
    "    print (\"---------------------\")\n",
    "    VIF_analysis(dataset2)"
   ]
  },
  {
   "cell_type": "code",
   "execution_count": 296,
   "id": "9f7fa1ea-9e83-4c2a-9025-0b00642b4093",
   "metadata": {},
   "outputs": [
    {
     "name": "stdout",
     "output_type": "stream",
     "text": [
      "Dataset 1\n",
      "---------------------\n",
      "         feature        VIF\n",
      "0        Value_A   1.000574\n",
      "1        Value_B   1.000555\n",
      "2   Class_Apples   9.224879\n",
      "3  Class_Bananas   6.814141\n",
      "4  Class_Oranges   8.852363\n",
      "5      Intercept  35.850008\n",
      "\n",
      "Dataset 2\n",
      "---------------------\n",
      "         feature       VIF\n",
      "0        Value_A  1.000574\n",
      "1        Value_B  1.000555\n",
      "2         Class_       inf\n",
      "3   Class_Apples       inf\n",
      "4  Class_Bananas       inf\n",
      "5  Class_Oranges       inf\n",
      "6      Intercept  0.000000\n"
     ]
    },
    {
     "name": "stderr",
     "output_type": "stream",
     "text": [
      "C:\\Users\\andre\\miniconda3\\envs\\basic\\Lib\\site-packages\\statsmodels\\stats\\outliers_influence.py:197: RuntimeWarning: divide by zero encountered in scalar divide\n",
      "  vif = 1. / (1. - r_squared_i)\n",
      "C:\\Users\\andre\\miniconda3\\envs\\basic\\Lib\\site-packages\\statsmodels\\regression\\linear_model.py:1782: RuntimeWarning: divide by zero encountered in scalar divide\n",
      "  return 1 - self.ssr/self.centered_tss\n"
     ]
    }
   ],
   "source": [
    "experiment_1(data_prepared_dropped, data_prepared_retained)"
   ]
  },
  {
   "cell_type": "markdown",
   "id": "a3b76cf9-88fa-4568-8443-4bc5a906d6f9",
   "metadata": {},
   "source": [
    "## Experiment B: Eigenvalues of Covariance Matrix\n",
    "Given the dataset containing a categorical variable with three options, does collinearity exist between the dummy variables converted to boolean values (i.e., using One Hot Encoding). \n",
    "\n",
    "By compairing the eigenvalues of the variables, we can check for collinearity. Eigenvalues which approach zero suggest collinearity exists.\n",
    "\n",
    "Results: the eigenvalues of the the dataset which has retained all of the class columns approach zero, whereas the dataset with a column dropped remains positive. This suggests collinearity."
   ]
  },
  {
   "cell_type": "code",
   "execution_count": 297,
   "id": "44183ed1-ad5a-4720-a9c0-5be50540df4f",
   "metadata": {},
   "outputs": [],
   "source": [
    "def determine_eigenvalues (data, return_matrix=False, verbose=True):\n",
    "    \"\"\"\n",
    "    Checks for the eigenvalues and eigenvectors on a dataframe.\n",
    "\n",
    "    Args:\n",
    "        data (DataFrame): a Pandas Dataframe containing the observations to be analyzed.\n",
    "        return_matrix (bool): determines if the covariance matrix and eigenvalues should be returned for use in other analysis\n",
    "        verbose (bool): determines if the covariance matrix, eigenvalues, and eigenvectors should be printed.\n",
    "\n",
    "    Returns:\n",
    "        The  covariance matrix, eigenvalues, and eigenvectors in printed form and the covariance matrix and eigenvectors as a dataset.\n",
    "\n",
    "    \"\"\"\n",
    "    cov_matrix = data.cov()\n",
    "    eigenvalues, eigenvectors = np.linalg.eig(cov_matrix)\n",
    "\n",
    "    if verbose:\n",
    "        # Print the results\n",
    "        print(\"Covariance Matrix:\")\n",
    "        print(cov_matrix)\n",
    "        \n",
    "        print(\"\\nEigenvalues:\")\n",
    "        print(eigenvalues)\n",
    "        \n",
    "        print(\"\\nEigenvectors:\")\n",
    "        print(eigenvectors)\n",
    "\n",
    "    if return_matrix:\n",
    "        return (cov_matrix, eigenvectors)"
   ]
  },
  {
   "cell_type": "code",
   "execution_count": 298,
   "id": "999ee101-be72-42e3-a4fe-6d62c62901a7",
   "metadata": {},
   "outputs": [],
   "source": [
    "def experiment_2 (dataset1, dataset2):\n",
    "    print (\"Dataset 1\")\n",
    "    print (\"---------------------\")\n",
    "    determine_eigenvalues (dataset1)\n",
    "    print (\"\\nDataset 2\")\n",
    "    print (\"---------------------\")\n",
    "    determine_eigenvalues (dataset2)\n"
   ]
  },
  {
   "cell_type": "code",
   "execution_count": 299,
   "id": "f4aa0806-452e-4899-9442-5a8a7c1ad460",
   "metadata": {},
   "outputs": [
    {
     "name": "stdout",
     "output_type": "stream",
     "text": [
      "Dataset 1\n",
      "---------------------\n",
      "Covariance Matrix:\n",
      "                Value_A   Value_B  Class_Apples  Class_Bananas  Class_Oranges\n",
      "Value_A        1.000100 -0.006939     -0.004235       0.009390      -0.004470\n",
      "Value_B       -0.006939  1.000100      0.003896      -0.006603       0.005055\n",
      "Class_Apples  -0.004235  0.003896      0.240693      -0.086296      -0.143141\n",
      "Class_Bananas  0.009390 -0.006603     -0.086296       0.168164      -0.075899\n",
      "Class_Oranges -0.004470  0.005055     -0.143141      -0.075899       0.228940\n",
      "\n",
      "Eigenvalues:\n",
      "[1.00731128 0.99316625 0.00901941 0.24985119 0.37864787]\n",
      "\n",
      "Eigenvectors:\n",
      "[[-7.08369846e-01  7.05685031e-01 -5.08812436e-04 -1.48128329e-02\n",
      "  -1.05793189e-03]\n",
      " [ 7.05586591e-01  7.08521201e-01 -1.29093813e-03  1.19807339e-02\n",
      "  -2.56248765e-04]\n",
      " [ 7.56362849e-03 -6.61924906e-04  5.72785303e-01 -3.60331201e-01\n",
      "  -7.36220603e-01]\n",
      " [-1.50456746e-02  2.38911921e-03  5.84603542e-01  8.09049904e-01\n",
      "   5.86930225e-02]\n",
      " [ 8.72597834e-03  4.45833761e-04  5.74590088e-01 -4.63936117e-01\n",
      "   6.74190751e-01]]\n",
      "\n",
      "Dataset 2\n",
      "---------------------\n",
      "Covariance Matrix:\n",
      "                Value_A   Value_B    Class_  Class_Apples  Class_Bananas  \\\n",
      "Value_A        1.000100 -0.006939 -0.000685     -0.004235       0.009390   \n",
      "Value_B       -0.006939  1.000100 -0.002348      0.003896      -0.006603   \n",
      "Class_        -0.000685 -0.002348  0.027124     -0.011256      -0.005968   \n",
      "Class_Apples  -0.004235  0.003896 -0.011256      0.240693      -0.086296   \n",
      "Class_Bananas  0.009390 -0.006603 -0.005968     -0.086296       0.168164   \n",
      "Class_Oranges -0.004470  0.005055 -0.009900     -0.143141      -0.075899   \n",
      "\n",
      "               Class_Oranges  \n",
      "Value_A            -0.004470  \n",
      "Value_B             0.005055  \n",
      "Class_             -0.009900  \n",
      "Class_Apples       -0.143141  \n",
      "Class_Bananas      -0.075899  \n",
      "Class_Oranges       0.228940  \n",
      "\n",
      "Eigenvalues:\n",
      "[1.00731288e+00 9.93171069e-01 2.49916367e-01 3.78652417e-01\n",
      " 3.60675594e-02 7.07870328e-16]\n",
      "\n",
      "Eigenvectors:\n",
      "[[ 7.08231457e-01 -7.05823668e-01  1.47948698e-02  1.05558112e-03\n",
      "   1.07241700e-03  1.01939680e-17]\n",
      " [-7.05724160e-01 -7.08379531e-01 -1.20357132e-02  2.40747819e-04\n",
      "   2.63337340e-03  5.90319936e-18]\n",
      " [ 1.27912879e-03  2.23439275e-03 -1.71394565e-02 -3.60204796e-03\n",
      "   8.65844464e-01  5.00000000e-01]\n",
      " [-7.57916405e-03  6.35605753e-04  3.60790630e-01  7.36341276e-01\n",
      "  -2.78520732e-01  5.00000000e-01]\n",
      " [ 1.50388398e-02 -2.40330985e-03 -8.08270616e-01 -5.86895943e-02\n",
      "  -3.04995411e-01  5.00000000e-01]\n",
      " [-8.73880457e-03 -4.66688659e-04  4.64619442e-01 -6.74049634e-01\n",
      "  -2.82328321e-01  5.00000000e-01]]\n"
     ]
    }
   ],
   "source": [
    "experiment_2(data_prepared_dropped, data_prepared_retained)"
   ]
  },
  {
   "cell_type": "markdown",
   "id": "3aecddcc-c898-4760-8cd2-959aca7e3207",
   "metadata": {},
   "source": [
    "## Experiment C: Condition Number\n",
    "Given the dataset containing a categorical variable with three options, does collinearity exist between the dummy variables converted to boolean values (i.e., using One Hot Encoding)\n",
    "\n",
    "To test this, the condition number is calculated. Numbers which are sufficiently large (approaching infinity) are considered to suggest collinearity.\n",
    "\n",
    "Result: the condition number of the dataset with all of the columns retained approaches infinity, whereas the dataset where the columns were dropped remain low. Collinearity is detected."
   ]
  },
  {
   "cell_type": "code",
   "execution_count": 311,
   "id": "60669fec-3514-425d-9268-4bfddd228e5d",
   "metadata": {},
   "outputs": [],
   "source": [
    "def Condition_number_analysis (data_with, data_without):\n",
    "    \"\"\"\n",
    "    Calculates the condition number of two dataframes (one with all of the columns retained, and one with one of the columns dropped)\n",
    "\n",
    "    Args:\n",
    "        data_with (DataFrame): a Pandas Dataframe containing the observations to be analyzed with all columns retained\n",
    "        data_without (DataFrame): a Pandas Dataframe containing the observations to be analyzed with one column dropped\n",
    "\n",
    "    Returns:\n",
    "        The condition number of both dataframes.\n",
    "\n",
    "    \"\"\"\n",
    "    \n",
    "    cov_with, _ = determine_eigenvalues(data_with, return_matrix=True, verbose=False)\n",
    "    cov_without, _t = determine_eigenvalues(data_without, return_matrix=True, verbose=False)\n",
    "    \n",
    "    cond_with = np.linalg.cond(cov_with)\n",
    "    print(\"\\nCondition Number (WITH):\", cond_with)\n",
    "    cond_without = np.linalg.cond(cov_without)\n",
    "    print(\"Condition Number (WITHOUT):\", cond_without)"
   ]
  },
  {
   "cell_type": "code",
   "execution_count": 310,
   "id": "74f6f530-004a-442a-8af4-e349f26b40a2",
   "metadata": {},
   "outputs": [
    {
     "name": "stdout",
     "output_type": "stream",
     "text": [
      "\n",
      "Condition Number (WITH): 1421210016005100.5\n",
      "Condition Number (WITHOUT): 111.68263132975727\n"
     ]
    }
   ],
   "source": [
    "Condition_number_analysis (data_with=data_prepared_retained, data_without=data_prepared_dropped)"
   ]
  },
  {
   "cell_type": "code",
   "execution_count": null,
   "id": "d705dd80-7049-44d9-b451-10954dae6112",
   "metadata": {},
   "outputs": [],
   "source": []
  }
 ],
 "metadata": {
  "kernelspec": {
   "display_name": "Python 3 (ipykernel)",
   "language": "python",
   "name": "python3"
  },
  "language_info": {
   "codemirror_mode": {
    "name": "ipython",
    "version": 3
   },
   "file_extension": ".py",
   "mimetype": "text/x-python",
   "name": "python",
   "nbconvert_exporter": "python",
   "pygments_lexer": "ipython3",
   "version": "3.11.11"
  }
 },
 "nbformat": 4,
 "nbformat_minor": 5
}
